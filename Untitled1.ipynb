{
  "nbformat": 4,
  "nbformat_minor": 0,
  "metadata": {
    "colab": {
      "name": "Untitled1.ipynb",
      "provenance": [],
      "authorship_tag": "ABX9TyOTuv9daYaV5R23IOxlSG4h",
      "include_colab_link": true
    },
    "kernelspec": {
      "name": "python3",
      "display_name": "Python 3"
    }
  },
  "cells": [
    {
      "cell_type": "markdown",
      "metadata": {
        "id": "view-in-github",
        "colab_type": "text"
      },
      "source": [
        "<a href=\"https://colab.research.google.com/github/Shreya061/python/blob/main/Untitled1.ipynb\" target=\"_parent\"><img src=\"https://colab.research.google.com/assets/colab-badge.svg\" alt=\"Open In Colab\"/></a>"
      ]
    },
    {
      "cell_type": "code",
      "metadata": {
        "colab": {
          "base_uri": "https://localhost:8080/"
        },
        "id": "vB8ESQcevJ3v",
        "outputId": "fc430498-3850-4604-d3d1-c72fa4897940"
      },
      "source": [
        "a=12\r\n",
        "b=3\r\n",
        "c=a*b\r\n",
        "print(c)\r\n"
      ],
      "execution_count": 1,
      "outputs": [
        {
          "output_type": "stream",
          "text": [
            "36\n"
          ],
          "name": "stdout"
        }
      ]
    },
    {
      "cell_type": "code",
      "metadata": {
        "colab": {
          "base_uri": "https://localhost:8080/"
        },
        "id": "XC4UyePgvv8J",
        "outputId": "f730655b-f658-4400-a21e-5be5a857aaf7"
      },
      "source": [
        "#eval\r\n",
        "a=eval(input())\r\n",
        "print()\r\n"
      ],
      "execution_count": 10,
      "outputs": [
        {
          "output_type": "stream",
          "text": [
            "3\n",
            "\n"
          ],
          "name": "stdout"
        }
      ]
    },
    {
      "cell_type": "code",
      "metadata": {
        "colab": {
          "base_uri": "https://localhost:8080/"
        },
        "id": "QrXFPZikx_Fp",
        "outputId": "3f09b726-2454-40c2-d525-da07a97f81b7"
      },
      "source": [
        "l=['a','e','i','o','u']\r\n",
        "l1=[0,0,0,0,0]\r\n",
        "l2=[]\r\n",
        "r=str(input(\"enter the scentence\"))\r\n",
        "for i in r:\r\n",
        "  if i in \"aeiou\":\r\n",
        "    l2.append(i)\r\n",
        "    l1[l.index(i)]+=1 \r\n",
        "print(\"vowel in a scentence\"+str(l2))\r\n",
        "print(\"each vowel repeated as\"+str(l1))\r\n"
      ],
      "execution_count": 12,
      "outputs": [
        {
          "output_type": "stream",
          "text": [
            "enter the scentencei am busy\n",
            "vowel in a scentence['i', 'a', 'u']\n",
            "each vowel repeated as[1, 0, 1, 0, 1]\n"
          ],
          "name": "stdout"
        }
      ]
    },
    {
      "cell_type": "code",
      "metadata": {
        "id": "R68u6ugE3Ek4"
      },
      "source": [
        ""
      ],
      "execution_count": null,
      "outputs": []
    }
  ]
}
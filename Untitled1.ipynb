{
  "nbformat": 4,
  "nbformat_minor": 0,
  "metadata": {
    "colab": {
      "name": "Untitled1.ipynb",
      "provenance": [],
      "include_colab_link": true
    },
    "kernelspec": {
      "display_name": "Python 3",
      "name": "python3"
    }
  },
  "cells": [
    {
      "cell_type": "markdown",
      "metadata": {
        "id": "view-in-github",
        "colab_type": "text"
      },
      "source": [
        "<a href=\"https://colab.research.google.com/github/Shreya061/python/blob/main/Untitled1.ipynb\" target=\"_parent\"><img src=\"https://colab.research.google.com/assets/colab-badge.svg\" alt=\"Open In Colab\"/></a>"
      ]
    },
    {
      "cell_type": "code",
      "metadata": {
        "colab": {
          "base_uri": "https://localhost:8080/"
        },
        "id": "vB8ESQcevJ3v",
        "outputId": "0c0c6e81-cbf4-4082-d6be-f015684629c2"
      },
      "source": [
        "a=12\r\n",
        "b=3\r\n",
        "c=a*b\r\n",
        "print(c)\r\n"
      ],
      "execution_count": null,
      "outputs": [
        {
          "output_type": "stream",
          "text": [
            "36\n"
          ],
          "name": "stdout"
        }
      ]
    },
    {
      "cell_type": "code",
      "metadata": {
        "colab": {
          "base_uri": "https://localhost:8080/"
        },
        "id": "XC4UyePgvv8J",
        "outputId": "cbfc56bb-115c-435d-886d-a5d68f4b6ea4"
      },
      "source": [
        "#eval\r\n",
        "a=eval(input())\r\n",
        "print()\r\n"
      ],
      "execution_count": null,
      "outputs": [
        {
          "output_type": "stream",
          "text": [
            "a\n",
            "\n"
          ],
          "name": "stdout"
        }
      ]
    },
    {
      "cell_type": "code",
      "metadata": {
        "id": "QrXFPZikx_Fp",
        "colab": {
          "base_uri": "https://localhost:8080/"
        },
        "outputId": "16a0cbfd-3c46-47b7-8811-3f0e821ef322"
      },
      "source": [
        "l=['a','e','i','o','u']\r\n",
        "l1=[0,0,0,0,0]\r\n",
        "l2=[]\r\n",
        "r=str(input(\"enter the scentence\"))\r\n",
        "for i in r:\r\n",
        "  if i in \"aeiou\":\r\n",
        "    l2.append(i)\r\n",
        "    l1[l.index(i)]+=1 \r\n",
        "print(\"vowel in a scentence\"+str(l2))\r\n",
        "print(\"each vowel repeated as\"+str(l1))\r\n"
      ],
      "execution_count": null,
      "outputs": [
        {
          "output_type": "stream",
          "text": [
            "enter the scentencei am the boss\n",
            "vowel in a scentence['i', 'a', 'e', 'o']\n",
            "each vowel repeated as[1, 1, 1, 1, 0]\n"
          ],
          "name": "stdout"
        }
      ]
    },
    {
      "cell_type": "code",
      "metadata": {
        "colab": {
          "base_uri": "https://localhost:8080/"
        },
        "id": "R68u6ugE3Ek4",
        "outputId": "494aed19-6bcb-4077-f6f4-7718a0d0c514"
      },
      "source": [
        "age=int(input())\r\n",
        "if(age<12):\r\n",
        "  print(\"toy\")\r\n",
        "if(age>12 and age<31):\r\n",
        "  print(\"chocolate\")\r\n",
        "else: \r\n",
        "  print(\"shawl\")  \r\n",
        "    "
      ],
      "execution_count": null,
      "outputs": [
        {
          "output_type": "stream",
          "text": [
            "51\n",
            "shawl\n"
          ],
          "name": "stdout"
        }
      ]
    },
    {
      "cell_type": "code",
      "metadata": {
        "colab": {
          "base_uri": "https://localhost:8080/"
        },
        "id": "tJzP6yyr8-ta",
        "outputId": "e8d0f117-61bb-4273-9cd5-f0669959ffb2"
      },
      "source": [
        "t=input(\"Enter your birth time:\")\r\n",
        "d=input(\"Enter your dob [dd/mm/yyyy]:\")\r\n",
        "print(\"Lets begin your life journey \\n We are starting  \")\r\n",
        "if(int(d[:-8])%2==0):\r\n",
        "  print(\"you are toodler and probably like sweets\")\r\n",
        "elif(int(d[:-8])%3==0):\r\n",
        "  print('sour')\r\n",
        "else:\r\n",
        "  print(\"spicy\")  \r\n",
        "if(int(d[3:-5])%2==0):\r\n",
        "  print(\"you are a kid and may get a cycle\")\r\n",
        "else:\r\n",
        "  print('toy')\r\n",
        "if(int(d[6:-1])%2==0):\r\n",
        "  print(\"you are a teenager and you may have an iteraction withcrush\")    \r\n",
        "else:\r\n",
        "  print(\"no interaction\")\r\n",
        "if(int(t[0:1])%2==0):\r\n",
        "  print(\"stream pcm\")\r\n",
        "else:\r\n",
        "  print(\"pcb\")\r\n",
        "if(int(d[:-8])%2==0):\r\n",
        "  print(\"propose\")\r\n",
        "else:\r\n",
        "  print(\"not\")\r\n",
        "if(int(d[:-8])%2==0):\r\n",
        "  print(\"talent\")\r\n",
        "elif(int(d[:-8])%3==0):\r\n",
        "  print('bussiness')\r\n",
        "else:\r\n",
        "  print(\"profession\")\r\n",
        "if(int(t[0:1])%2==0):\r\n",
        "  print(\"love marriage\")\r\n",
        "else:\r\n",
        "  print(\"arrange marriage\")\r\n",
        "if(int(d[3:5])%2==0):\r\n",
        " print(\"maldives\")\r\n",
        "elif(int(d[3:5])%3==0):\r\n",
        "  print(\"Ladak\")\r\n",
        "else:\r\n",
        "  print(\"All over india\")\r\n",
        "if(int(d[6:-1])%2==0):\r\n",
        "  print(\"children \")    \r\n",
        "else:\r\n",
        "  print(\"children\")\r\n",
        "if(int(d[3:-5])%2==0):\r\n",
        "  print(\"Enjoy your life at hill station\")\r\n",
        "else:\r\n",
        "  print('Enjoy your journy at holy place')\r\n",
        "\r\n",
        "         "
      ],
      "execution_count": null,
      "outputs": [
        {
          "output_type": "stream",
          "text": [
            "Enter your birth time:1\n",
            "Enter your dob [dd/mm/yyyy]:01\\10\\2000\n",
            "Lets begin your life journey \n",
            " We are starting  \n",
            "spicy\n",
            "you are a kid and may get a cycle\n",
            "you are a teenager and you may have an iteraction withcrush\n",
            "pcb\n",
            "not\n",
            "profession\n",
            "arrange marriage\n",
            "maldives\n",
            "children \n",
            "Enjoy your life at hill station\n"
          ],
          "name": "stdout"
        }
      ]
    },
    {
      "cell_type": "code",
      "metadata": {
        "colab": {
          "base_uri": "https://localhost:8080/"
        },
        "id": "G8P8lEmbDg08",
        "outputId": "e877ef09-d78f-413e-9308-267890356b4a"
      },
      "source": [
        "\"\r\n",
        "x=\"   jay ho    \"\r\n",
        "print(x.split())\r\n",
        "print(x.find(\"j\"))\r\n",
        "print(x.strip())"
      ],
      "execution_count": null,
      "outputs": [
        {
          "output_type": "stream",
          "text": [
            "['jay', 'ho']\n",
            "3\n",
            "jay ho\n"
          ],
          "name": "stdout"
        }
      ]
    },
    {
      "cell_type": "code",
      "metadata": {
        "colab": {
          "base_uri": "https://localhost:8080/"
        },
        "id": "L4mM6m-8H3xJ",
        "outputId": "6cdf8622-7cac-43bd-a0ad-c935f1fe2136"
      },
      "source": [
        "def sum(a,b):\r\n",
        "  return(a+b)\r\n",
        "sum(6,7)"
      ],
      "execution_count": null,
      "outputs": [
        {
          "output_type": "execute_result",
          "data": {
            "text/plain": [
              "13"
            ]
          },
          "metadata": {
            "tags": []
          },
          "execution_count": 25
        }
      ]
    },
    {
      "cell_type": "code",
      "metadata": {
        "id": "Xio7cvhOOClB",
        "colab": {
          "base_uri": "https://localhost:8080/"
        },
        "outputId": "9230263f-cf34-4c1f-d766-be87aaf17347"
      },
      "source": [
        "k=int(input(\"Message Sender : \\n Hello MIT CELL: \\n Please enter k value to shift transform message:\"))\r\n",
        "output=\"\"\r\n",
        "s=input('Now please type your message:')\r\n",
        "for x in s:\r\n",
        "  if x in \"!@#$%^&*()-+?_=,<>/\":\r\n",
        "    output+=x\r\n",
        "  elif x ==\" \":\r\n",
        "    output+=\"@\"\r\n",
        "  elif x ==\".\":\r\n",
        "    output+=\"#\"\r\n",
        "  else:\r\n",
        "    y=ord(x)+k\r\n",
        "    m=chr(y)\r\n",
        "    output+=m\r\n",
        "print(\"You send-\"+output)\r\n",
        "print(\"Message Receiver :\\n Hello Instructor: \\n You got a message:\"+output)\r\n",
        "k=int(input(\"to read this message enter the value of k provided by cell\"))\r\n",
        "output1=\"\"\r\n",
        "for x in output:\r\n",
        "  if x in \"!@#$%^&*()-+?_=,<>/\":\r\n",
        "    output1+=x\r\n",
        "  elif x ==\"@\":\r\n",
        "    output1+=\" \"\r\n",
        "  elif x ==\"#\":\r\n",
        "    output1+=\".\"\r\n",
        "  else:\r\n",
        "    y=ord(x)-k\r\n",
        "    m=chr(y)\r\n",
        "    output1+=m\r\n",
        "print(\"Original Message:\"+output1)\r\n"
      ],
      "execution_count": 21,
      "outputs": [
        {
          "output_type": "stream",
          "text": [
            "Message Sender : \n",
            " Hello MIT CELL: \n",
            " Please enter k value to shift transform message:3\n",
            "Now please type your message:AB%c123*.\n",
            "You send-DE%f456*#\n",
            "Message Receiver :\n",
            " Hello Instructor: \n",
            " You got a message:DE%f456*#\n",
            "to read this message enter the value of k provided by cell3\n",
            "Original Message:AB%c123*#\n"
          ],
          "name": "stdout"
        }
      ]
    },
    {
      "cell_type": "code",
      "metadata": {
        "colab": {
          "base_uri": "https://localhost:8080/"
        },
        "id": "q4tb2ZAlRbku",
        "outputId": "9c07be35-6b48-42b5-a836-b8d4cbaaa091"
      },
      "source": [
        "balance=450\r\n",
        "def deposit(v):\r\n",
        "  global balance\r\n",
        "  balance += v\r\n",
        "def withdrwal(w):\r\n",
        "  global balance\r\n",
        "  balance-=w\r\n",
        "\r\n",
        "deposit(200)\r\n",
        "withdrwal(50)\r\n",
        "print(balance)\r\n"
      ],
      "execution_count": 20,
      "outputs": [
        {
          "output_type": "stream",
          "text": [
            "600\n"
          ],
          "name": "stdout"
        }
      ]
    },
    {
      "cell_type": "code",
      "metadata": {
        "id": "2R7oEcoMTE9a"
      },
      "source": [
        "\r\n",
        "\r\n"
      ],
      "execution_count": null,
      "outputs": []
    }
  ]
}